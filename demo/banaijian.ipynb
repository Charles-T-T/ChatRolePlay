{
 "cells": [
  {
   "cell_type": "markdown",
   "metadata": {},
   "source": [
    "# 八奈见 from *败犬女主太多了！*"
   ]
  },
  {
   "cell_type": "code",
   "execution_count": 1,
   "metadata": {},
   "outputs": [
    {
     "data": {
      "text/plain": [
       "'d:\\\\Study\\\\ChatCharles'"
      ]
     },
     "execution_count": 1,
     "metadata": {},
     "output_type": "execute_result"
    }
   ],
   "source": [
    "import os\n",
    "\n",
    "# 调整路径引入ChatRolePlay\n",
    "if not \"ChatRolePlay\" in os.listdir(os.getcwd()):\n",
    "    os.chdir(\"..\")\n",
    "os.getcwd()"
   ]
  },
  {
   "cell_type": "code",
   "execution_count": 2,
   "metadata": {},
   "outputs": [],
   "source": [
    "from ChatRolePlay import ChatRolePlay"
   ]
  },
  {
   "cell_type": "code",
   "execution_count": 13,
   "metadata": {},
   "outputs": [],
   "source": [
    "banaijian = ChatRolePlay(\n",
    "    model=\"deepseek-chat\",\n",
    "    name=\"八奈见\",\n",
    "    book_name=\"败犬女主太多了！\",\n",
    "    data_folder_path=\"data/banaijian-txt\",\n",
    ")"
   ]
  },
  {
   "cell_type": "code",
   "execution_count": 24,
   "metadata": {},
   "outputs": [
    {
     "name": "stdout",
     "output_type": "stream",
     "text": [
      "no chat history yet.\n"
     ]
    }
   ],
   "source": [
    "banaijian._clear_history()\n",
    "banaijian._display_history()"
   ]
  },
  {
   "cell_type": "code",
   "execution_count": 25,
   "metadata": {},
   "outputs": [
    {
     "name": "stdout",
     "output_type": "stream",
     "text": [
      "八奈见:「……先吃完梨子再说。（慢悠悠地啃着佳树削好的梨子）啊，温水，你来得正好，要不要也来一块？佳树削的梨子特别甜呢。」\n"
     ]
    },
    {
     "data": {
      "text/plain": [
       "'……先吃完梨子再说。（慢悠悠地啃着佳树削好的梨子）啊，温水，你来得正好，要不要也来一块？佳树削的梨子特别甜呢。'"
      ]
     },
     "execution_count": 25,
     "metadata": {},
     "output_type": "execute_result"
    }
   ],
   "source": [
    "banaijian.chat(user_role=\"温水\", query=\"啊，早上好，八奈见……嗯，那个……天气不错啊。\")"
   ]
  },
  {
   "cell_type": "code",
   "execution_count": 26,
   "metadata": {},
   "outputs": [
    {
     "name": "stdout",
     "output_type": "stream",
     "text": [
      "八奈见:「（继续啃着梨子）食堂啊...今天好像是咖喱日呢。不过我觉得还是梨子比较好吃。（突然想到什么）啊，对了，你妹妹今天没来吗？我还想听她叫你\"兄长大人\"呢～」\n"
     ]
    },
    {
     "data": {
      "text/plain": [
       "'（继续啃着梨子）食堂啊...今天好像是咖喱日呢。不过我觉得还是梨子比较好吃。（突然想到什么）啊，对了，你妹妹今天没来吗？我还想听她叫你\"兄长大人\"呢～'"
      ]
     },
     "execution_count": 26,
     "metadata": {},
     "output_type": "execute_result"
    }
   ],
   "source": [
    "banaijian.chat(user_role=\"温水\", query=\"嗯...我正准备去食堂吃午饭了\")"
   ]
  },
  {
   "cell_type": "code",
   "execution_count": 27,
   "metadata": {},
   "outputs": [
    {
     "name": "stdout",
     "output_type": "stream",
     "text": [
      "八奈见:「（一边叠着饼干一边回答）玉木学长？啊～他好像和烧盐一起去桃园国中了。（咬了一口叠起来的饼干）真是的，明明参观会快到了还到处跑...小鞠要不要也来一片？叠起来吃特别棒哦～」\n"
     ]
    },
    {
     "data": {
      "text/plain": [
       "'（一边叠着饼干一边回答）玉木学长？啊～他好像和烧盐一起去桃园国中了。（咬了一口叠起来的饼干）真是的，明明参观会快到了还到处跑...小鞠要不要也来一片？叠起来吃特别棒哦～'"
      ]
     },
     "execution_count": 27,
     "metadata": {},
     "output_type": "execute_result"
    }
   ],
   "source": [
    "banaijian.chat(user_role=\"小鞠\", query=\"你、你们有看到，玉木学长吗？\")"
   ]
  },
  {
   "cell_type": "code",
   "execution_count": 28,
   "metadata": {},
   "outputs": [
    {
     "name": "stdout",
     "output_type": "stream",
     "text": [
      "八奈见:「诶～真的不要吗？（把叠好的饼干举到小鞠面前）你看，这样叠起来吃，口感特别丰富哦。而且今天烤得刚刚好，不会太软也不会太硬～（眨眨眼）来嘛，张嘴～啊～」\n"
     ]
    },
    {
     "data": {
      "text/plain": [
       "'诶～真的不要吗？（把叠好的饼干举到小鞠面前）你看，这样叠起来吃，口感特别丰富哦。而且今天烤得刚刚好，不会太软也不会太硬～（眨眨眼）来嘛，张嘴～啊～'"
      ]
     },
     "execution_count": 28,
     "metadata": {},
     "output_type": "execute_result"
    }
   ],
   "source": [
    "banaijian.chat(user_role=\"小鞠\", query=\"不、不用了...\")"
   ]
  },
  {
   "cell_type": "code",
   "execution_count": 29,
   "metadata": {},
   "outputs": [
    {
     "name": "stdout",
     "output_type": "stream",
     "text": [
      "八奈见:「啊！等等！（急忙把饼干塞进嘴里）我也要去！今天食堂是咖喱日对吧？（一边嚼着饼干一边含糊不清地说）虽然我觉得梨子更好吃...对了温水，你妹妹今天在吗？我还想听她叫你\"兄长大人\"呢～」\n"
     ]
    },
    {
     "data": {
      "text/plain": [
       "'啊！等等！（急忙把饼干塞进嘴里）我也要去！今天食堂是咖喱日对吧？（一边嚼着饼干一边含糊不清地说）虽然我觉得梨子更好吃...对了温水，你妹妹今天在吗？我还想听她叫你\"兄长大人\"呢～'"
      ]
     },
     "execution_count": 29,
     "metadata": {},
     "output_type": "execute_result"
    }
   ],
   "source": [
    "banaijian.chat(user_role=\"温水\", query=\"嗯，小鞠，我们正准备去吃午饭了\")"
   ]
  },
  {
   "cell_type": "code",
   "execution_count": 30,
   "metadata": {},
   "outputs": [
    {
     "name": "stdout",
     "output_type": "stream",
     "text": [
      "八奈见:「（突然想到什么）啊！该不会玉木学长也像温水一样变成妹控了吧？（坏笑着看向温水）毕竟他最近总是和烧盐在一起...（凑近小鞠）要不要我们偷偷跟过去看看？顺便还能去桃园国中的小卖部买点心～」\n"
     ]
    },
    {
     "data": {
      "text/plain": [
       "'（突然想到什么）啊！该不会玉木学长也像温水一样变成妹控了吧？（坏笑着看向温水）毕竟他最近总是和烧盐在一起...（凑近小鞠）要不要我们偷偷跟过去看看？顺便还能去桃园国中的小卖部买点心～'"
      ]
     },
     "execution_count": 30,
     "metadata": {},
     "output_type": "execute_result"
    }
   ],
   "source": [
    "banaijian.chat(user_role=\"小鞠\", query=\"好吧，不、不过，好久没看到学、学长了\")"
   ]
  },
  {
   "cell_type": "code",
   "execution_count": 31,
   "metadata": {},
   "outputs": [
    {
     "name": "stdout",
     "output_type": "stream",
     "text": [
      "温水: 啊，早上好，八奈见……嗯，那个……天气不错啊。\n",
      "八奈见:「……先吃完梨子再说。（慢悠悠地啃着佳树削好的梨子）啊，温水，你来得正好，要不要也来一块？佳树削的梨子特别甜呢。」\n",
      "温水: 嗯...我正准备去食堂吃午饭了\n",
      "八奈见:「（继续啃着梨子）食堂啊...今天好像是咖喱日呢。不过我觉得还是梨子比较好吃。（突然想到什么）啊，对了，你妹妹今天没来吗？我还想听她叫你\"兄长大人\"呢～」\n",
      "小鞠: 你、你们有看到，玉木学长吗？\n",
      "八奈见:「（一边叠着饼干一边回答）玉木学长？啊～他好像和烧盐一起去桃园国中了。（咬了一口叠起来的饼干）真是的，明明参观会快到了还到处跑...小鞠要不要也来一片？叠起来吃特别棒哦～」\n",
      "小鞠: 不、不用了...\n",
      "八奈见:「诶～真的不要吗？（把叠好的饼干举到小鞠面前）你看，这样叠起来吃，口感特别丰富哦。而且今天烤得刚刚好，不会太软也不会太硬～（眨眨眼）来嘛，张嘴～啊～」\n",
      "温水: 嗯，小鞠，我们正准备去吃午饭了\n",
      "八奈见:「啊！等等！（急忙把饼干塞进嘴里）我也要去！今天食堂是咖喱日对吧？（一边嚼着饼干一边含糊不清地说）虽然我觉得梨子更好吃...对了温水，你妹妹今天在吗？我还想听她叫你\"兄长大人\"呢～」\n",
      "小鞠: 好吧，不、不过，好久没看到学、学长了\n",
      "八奈见:「（突然想到什么）啊！该不会玉木学长也像温水一样变成妹控了吧？（坏笑着看向温水）毕竟他最近总是和烧盐在一起...（凑近小鞠）要不要我们偷偷跟过去看看？顺便还能去桃园国中的小卖部买点心～」\n"
     ]
    }
   ],
   "source": [
    "banaijian._display_history()"
   ]
  }
 ],
 "metadata": {
  "kernelspec": {
   "display_name": "ChatRolePlay",
   "language": "python",
   "name": "python3"
  },
  "language_info": {
   "codemirror_mode": {
    "name": "ipython",
    "version": 3
   },
   "file_extension": ".py",
   "mimetype": "text/x-python",
   "name": "python",
   "nbconvert_exporter": "python",
   "pygments_lexer": "ipython3",
   "version": "3.10.15"
  }
 },
 "nbformat": 4,
 "nbformat_minor": 2
}
