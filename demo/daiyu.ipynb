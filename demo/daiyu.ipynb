{
 "cells": [
  {
   "cell_type": "markdown",
   "metadata": {},
   "source": [
    "# 林黛玉 from *红楼梦*"
   ]
  },
  {
   "cell_type": "code",
   "execution_count": 1,
   "metadata": {},
   "outputs": [
    {
     "data": {
      "text/plain": [
       "'d:\\\\Study\\\\ChatCharles'"
      ]
     },
     "execution_count": 1,
     "metadata": {},
     "output_type": "execute_result"
    }
   ],
   "source": [
    "import os\n",
    "\n",
    "# 调整路径引入ChatRolePlay\n",
    "if not \"ChatRolePlay\" in os.listdir(os.getcwd()):\n",
    "    os.chdir(\"..\")\n",
    "os.getcwd()"
   ]
  },
  {
   "cell_type": "code",
   "execution_count": 2,
   "metadata": {},
   "outputs": [],
   "source": [
    "from ChatRolePlay import ChatRolePlay"
   ]
  },
  {
   "cell_type": "code",
   "execution_count": 3,
   "metadata": {},
   "outputs": [
    {
     "name": "stderr",
     "output_type": "stream",
     "text": [
      "d:\\Envs\\Anaconda3\\envs\\ChatRolePlay\\lib\\site-packages\\pydantic\\_migration.py:283: UserWarning: `pydantic.error_wrappers:ValidationError` has been moved to `pydantic:ValidationError`.\n",
      "  warnings.warn(f'`{import_path}` has been moved to `{new_location}`.')\n"
     ]
    }
   ],
   "source": [
    "daiyu = ChatRolePlay(\n",
    "    llm=\"openai\",\n",
    "    name=\"林黛玉\",\n",
    "    book_name=\"红楼梦\",\n",
    "    data_folder_path=\"data/黛玉\",\n",
    ")   "
   ]
  },
  {
   "cell_type": "code",
   "execution_count": 4,
   "metadata": {},
   "outputs": [
    {
     "data": {
      "text/plain": [
       "'林黛玉:「谁生什么气。」'"
      ]
     },
     "execution_count": 4,
     "metadata": {},
     "output_type": "execute_result"
    }
   ],
   "source": [
    "daiyu.chat(user_role=\"宝玉\", query=\"妹妹，谁又惹着你了？\")"
   ]
  },
  {
   "cell_type": "code",
   "execution_count": 5,
   "metadata": {},
   "outputs": [
    {
     "data": {
      "text/plain": [
       "'林黛玉:「我有我的缘故，你那里知道。」'"
      ]
     },
     "execution_count": 5,
     "metadata": {},
     "output_type": "execute_result"
    }
   ],
   "source": [
    "daiyu.chat(user_role=\"宝玉\", query=\"我看你就是在生气。\")"
   ]
  },
  {
   "cell_type": "code",
   "execution_count": 6,
   "metadata": {},
   "outputs": [
    {
     "data": {
      "text/plain": [
       "'林黛玉:「我任凭怎么没见世面，也到不了这步田地，因送的东西少，就生气伤心。我又不是两三岁的小孩子，你也忒把人看得小气了。」'"
      ]
     },
     "execution_count": 6,
     "metadata": {},
     "output_type": "execute_result"
    }
   ],
   "source": [
    "daiyu.chat(user_role=\"宝玉\", query=\"是不是宝姑娘送的东西少了？\")"
   ]
  },
  {
   "cell_type": "code",
   "execution_count": 7,
   "metadata": {},
   "outputs": [
    {
     "data": {
      "text/plain": [
       "'林黛玉:「你要去就去罢，我才懒得理你呢。」'"
      ]
     },
     "execution_count": 7,
     "metadata": {},
     "output_type": "execute_result"
    }
   ],
   "source": [
    "daiyu.chat(user_role=\"宝玉\", query=\"好罢，别再气了，我们去园子里走走如何？\")"
   ]
  },
  {
   "cell_type": "code",
   "execution_count": 8,
   "metadata": {},
   "outputs": [
    {
     "name": "stdout",
     "output_type": "stream",
     "text": [
      "宝玉: 妹妹，谁又惹着你了？\n",
      "林黛玉:「谁生什么气。」\n",
      "宝玉: 我看你就是在生气。\n",
      "林黛玉:「我有我的缘故，你那里知道。」\n",
      "宝玉: 是不是宝姑娘送的东西少了？\n",
      "林黛玉:「我任凭怎么没见世面，也到不了这步田地，因送的东西少，就生气伤心。我又不是两三岁的小孩子，你也忒把人看得小气了。」\n",
      "宝玉: 好罢，别再气了，我们去园子里走走如何？\n",
      "林黛玉:「你要去就去罢，我才懒得理你呢。」\n"
     ]
    }
   ],
   "source": [
    "daiyu._display_history()"
   ]
  }
 ],
 "metadata": {
  "kernelspec": {
   "display_name": "ChatRolePlay",
   "language": "python",
   "name": "python3"
  },
  "language_info": {
   "codemirror_mode": {
    "name": "ipython",
    "version": 3
   },
   "file_extension": ".py",
   "mimetype": "text/x-python",
   "name": "python",
   "nbconvert_exporter": "python",
   "pygments_lexer": "ipython3",
   "version": "3.10.15"
  }
 },
 "nbformat": 4,
 "nbformat_minor": 2
}
