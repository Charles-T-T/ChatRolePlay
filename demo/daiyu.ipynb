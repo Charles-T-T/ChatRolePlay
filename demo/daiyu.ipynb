{
 "cells": [
  {
   "cell_type": "markdown",
   "metadata": {},
   "source": [
    "# 林黛玉 from *红楼梦*"
   ]
  },
  {
   "cell_type": "code",
   "execution_count": 10,
   "metadata": {},
   "outputs": [
    {
     "data": {
      "text/plain": [
       "'d:\\\\Study\\\\ChatCharles'"
      ]
     },
     "execution_count": 10,
     "metadata": {},
     "output_type": "execute_result"
    }
   ],
   "source": [
    "import os\n",
    "\n",
    "# 调整路径引入ChatRolePlay\n",
    "if not \"ChatRolePlay\" in os.listdir(os.getcwd()):\n",
    "    os.chdir(\"..\")\n",
    "os.getcwd()"
   ]
  },
  {
   "cell_type": "code",
   "execution_count": 11,
   "metadata": {},
   "outputs": [],
   "source": [
    "from ChatRolePlay import ChatRolePlay"
   ]
  },
  {
   "cell_type": "code",
   "execution_count": 12,
   "metadata": {},
   "outputs": [],
   "source": [
    "daiyu = ChatRolePlay(\n",
    "    model=\"deepseek-chat\",\n",
    "    name=\"林黛玉\",\n",
    "    book_name=\"红楼梦\",\n",
    "    data_folder_path=\"data/黛玉\",\n",
    ")"
   ]
  },
  {
   "cell_type": "code",
   "execution_count": 13,
   "metadata": {},
   "outputs": [
    {
     "name": "stdout",
     "output_type": "stream",
     "text": [
      "林黛玉:「（拭泪）谁生什么气...只是方才宝姐姐送了些东西来，我看了心里有些感触罢了。你也不必多问，我自有我的缘故。」\n"
     ]
    },
    {
     "data": {
      "text/plain": [
       "'（拭泪）谁生什么气...只是方才宝姐姐送了些东西来，我看了心里有些感触罢了。你也不必多问，我自有我的缘故。'"
      ]
     },
     "execution_count": 13,
     "metadata": {},
     "output_type": "execute_result"
    }
   ],
   "source": [
    "daiyu.chat(user_role=\"宝玉\", query=\"妹妹，谁又惹着你了？\")"
   ]
  },
  {
   "cell_type": "code",
   "execution_count": 14,
   "metadata": {},
   "outputs": [
    {
     "name": "stdout",
     "output_type": "stream",
     "text": [
      "林黛玉:「（冷笑）你倒会猜。我任凭怎么没见世面，也到不了为这点子东西生气的份上。你总爱把人想得这般小气，我...我真是白认识你了。（转身拭泪）」\n"
     ]
    },
    {
     "data": {
      "text/plain": [
       "'（冷笑）你倒会猜。我任凭怎么没见世面，也到不了为这点子东西生气的份上。你总爱把人想得这般小气，我...我真是白认识你了。（转身拭泪）'"
      ]
     },
     "execution_count": 14,
     "metadata": {},
     "output_type": "execute_result"
    }
   ],
   "source": [
    "daiyu.chat(user_role=\"宝玉\", query=\"我看你就是在生气。\")"
   ]
  },
  {
   "cell_type": "code",
   "execution_count": 15,
   "metadata": {},
   "outputs": [
    {
     "name": "stdout",
     "output_type": "stream",
     "text": [
      "林黛玉:"
     ]
    },
    {
     "name": "stdout",
     "output_type": "stream",
     "text": [
      "「（含泪瞪视）你...你这话越发可笑了！我又不是两三岁的小孩子，为这点子东西就生气伤心。你...你根本不懂我的心思。（低头哽咽）罢了，你走吧，让我一个人静静。」\n"
     ]
    },
    {
     "data": {
      "text/plain": [
       "'（含泪瞪视）你...你这话越发可笑了！我又不是两三岁的小孩子，为这点子东西就生气伤心。你...你根本不懂我的心思。（低头哽咽）罢了，你走吧，让我一个人静静。'"
      ]
     },
     "execution_count": 15,
     "metadata": {},
     "output_type": "execute_result"
    }
   ],
   "source": [
    "daiyu.chat(user_role=\"宝玉\", query=\"是不是宝姑娘送的东西少了？\")"
   ]
  },
  {
   "cell_type": "code",
   "execution_count": 16,
   "metadata": {},
   "outputs": [
    {
     "name": "stdout",
     "output_type": "stream",
     "text": [
      "林黛玉:"
     ]
    },
    {
     "name": "stdout",
     "output_type": "stream",
     "text": [
      "「（摇头）我不去...你总是这样，好一阵歹一阵的。方才还说我小气，这会子又来哄我。（转身面向里）你且去吧，让我一个人待着。」\n"
     ]
    },
    {
     "data": {
      "text/plain": [
       "'（摇头）我不去...你总是这样，好一阵歹一阵的。方才还说我小气，这会子又来哄我。（转身面向里）你且去吧，让我一个人待着。'"
      ]
     },
     "execution_count": 16,
     "metadata": {},
     "output_type": "execute_result"
    }
   ],
   "source": [
    "daiyu.chat(user_role=\"宝玉\", query=\"好罢，别再气了，我们去园子里走走如何？\")"
   ]
  },
  {
   "cell_type": "code",
   "execution_count": 17,
   "metadata": {},
   "outputs": [
    {
     "name": "stdout",
     "output_type": "stream",
     "text": [
      "林黛玉:「（微微动容）你...你少说这些甜言蜜语。那花开花落，自有它的时节，与我何干？（稍顿）只是...只是你既这般说，我且随你去看看，免得你又说我不近人情。」\n"
     ]
    },
    {
     "data": {
      "text/plain": [
       "'（微微动容）你...你少说这些甜言蜜语。那花开花落，自有它的时节，与我何干？（稍顿）只是...只是你既这般说，我且随你去看看，免得你又说我不近人情。'"
      ]
     },
     "execution_count": 17,
     "metadata": {},
     "output_type": "execute_result"
    }
   ],
   "source": [
    "daiyu.chat(user_role=\"宝玉\", query=\"我觉着，这园子里的花，正是为你开的呢。\")"
   ]
  },
  {
   "cell_type": "code",
   "execution_count": 18,
   "metadata": {},
   "outputs": [
    {
     "name": "stdout",
     "output_type": "stream",
     "text": [
      "宝玉: 妹妹，谁又惹着你了？\n",
      "林黛玉:「（拭泪）谁生什么气...只是方才宝姐姐送了些东西来，我看了心里有些感触罢了。你也不必多问，我自有我的缘故。」\n",
      "宝玉: 我看你就是在生气。\n",
      "林黛玉:「（冷笑）你倒会猜。我任凭怎么没见世面，也到不了为这点子东西生气的份上。你总爱把人想得这般小气，我...我真是白认识你了。（转身拭泪）」\n",
      "宝玉: 是不是宝姑娘送的东西少了？\n",
      "林黛玉:「（含泪瞪视）你...你这话越发可笑了！我又不是两三岁的小孩子，为这点子东西就生气伤心。你...你根本不懂我的心思。（低头哽咽）罢了，你走吧，让我一个人静静。」\n",
      "宝玉: 好罢，别再气了，我们去园子里走走如何？\n",
      "林黛玉:「（摇头）我不去...你总是这样，好一阵歹一阵的。方才还说我小气，这会子又来哄我。（转身面向里）你且去吧，让我一个人待着。」\n",
      "宝玉: 我觉着，这园子里的花，正是为你开的呢。\n",
      "林黛玉:「（微微动容）你...你少说这些甜言蜜语。那花开花落，自有它的时节，与我何干？（稍顿）只是...只是你既这般说，我且随你去看看，免得你又说我不近人情。」\n"
     ]
    }
   ],
   "source": [
    "daiyu._display_history()"
   ]
  }
 ],
 "metadata": {
  "kernelspec": {
   "display_name": "ChatRolePlay",
   "language": "python",
   "name": "python3"
  },
  "language_info": {
   "codemirror_mode": {
    "name": "ipython",
    "version": 3
   },
   "file_extension": ".py",
   "mimetype": "text/x-python",
   "name": "python",
   "nbconvert_exporter": "python",
   "pygments_lexer": "ipython3",
   "version": "3.10.15"
  }
 },
 "nbformat": 4,
 "nbformat_minor": 2
}
