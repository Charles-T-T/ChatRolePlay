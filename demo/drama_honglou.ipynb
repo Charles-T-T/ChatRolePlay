{
 "cells": [
  {
   "cell_type": "markdown",
   "metadata": {},
   "source": [
    "# 赛博看戏"
   ]
  },
  {
   "cell_type": "code",
   "execution_count": 10,
   "metadata": {},
   "outputs": [
    {
     "data": {
      "text/plain": [
       "'d:\\\\Study\\\\ChatCharles'"
      ]
     },
     "execution_count": 10,
     "metadata": {},
     "output_type": "execute_result"
    }
   ],
   "source": [
    "import os\n",
    "\n",
    "# 调整路径便于引入ChatRolePlay\n",
    "if not \"ChatRolePlay\" in os.listdir(os.getcwd()):\n",
    "    os.chdir(\"..\")\n",
    "os.getcwd()"
   ]
  },
  {
   "cell_type": "code",
   "execution_count": 11,
   "metadata": {},
   "outputs": [],
   "source": [
    "from ChatRolePlay import ChatRolePlay"
   ]
  },
  {
   "cell_type": "markdown",
   "metadata": {},
   "source": [
    "## 林黛玉"
   ]
  },
  {
   "cell_type": "code",
   "execution_count": 12,
   "metadata": {},
   "outputs": [],
   "source": [
    "daiyu = ChatRolePlay(\n",
    "    model=\"ep-20250206211623-dc6g2\",\n",
    "    name=\"黛玉\",\n",
    "    data_folder_path=\"data/黛玉\",\n",
    ")"
   ]
  },
  {
   "cell_type": "markdown",
   "metadata": {},
   "source": [
    "## 贾宝玉"
   ]
  },
  {
   "cell_type": "code",
   "execution_count": 13,
   "metadata": {},
   "outputs": [],
   "source": [
    "baoyu = ChatRolePlay(\n",
    "    model=\"ep-20250206211623-dc6g2\",\n",
    "    name=\"宝玉\",\n",
    "    data_folder_path=\"data/宝玉\",\n",
    ")"
   ]
  },
  {
   "cell_type": "markdown",
   "metadata": {},
   "source": [
    "### 看戏"
   ]
  },
  {
   "cell_type": "code",
   "execution_count": 19,
   "metadata": {},
   "outputs": [],
   "source": [
    "daiyu._clear_history()\n",
    "baoyu._clear_history()"
   ]
  },
  {
   "cell_type": "code",
   "execution_count": 20,
   "metadata": {},
   "outputs": [
    {
     "name": "stdout",
     "output_type": "stream",
     "text": [
      "宝玉:「林妹妹，你可知道你们扬州衙门里有一件大事？」\n",
      "\n",
      "黛玉:「什么事？就是扯谎，自来也没听见这衙门里能有什么大事。 」\n",
      "\n",
      "宝玉:「妹妹，天下奇事多着呢，你哪里能都知道呀。你且听我说完嘛，这扬州有一座黛山，山上有个林子洞。洞里啊，可有一番别样的景致呢。你就别忙着批评我扯谎啦，且耐着性子听我往下说。 」\n",
      "\n",
      "黛玉:「哼，我且听你能说出什么新鲜来。就算真有这黛山、林子洞，我瞧你也不过是编些荒诞话哄我罢了，且说，说不出个所以然来，看我不拿帕子捂了你的嘴。 」\n",
      "\n",
      "宝玉:「哎哟哟，妹妹这么凶呢。我这故事可新鲜着呢。林子洞里原来有群耗子精。那一年腊月初七日，老耗子升座议事，因说：‘明日乃是腊八，世上人都熬腊八粥，如今我们洞中果品短少，须得趁此打劫些来方妙。’乃拔令箭一枝，遣一能干的小耗子前去打听。一时小耗回报：‘各处察访打听已毕，惟有山下庙里果米最多。’妹妹，你说这耗子精们是不是机灵得紧呐。 」\n",
      "\n",
      "黛玉:「哟，越发没个正经了，拿这耗子精的事儿来诓我。且接着说罢，我倒要看看这群耗子精能闹出什么名堂。 」\n",
      "\n",
      "宝玉:「妹妹别急嘛，这故事精彩着呢。老耗子一听小耗子回报山下庙里果米最多，便又问：“米有几样？果有几品？”小耗道：“米豆成仓，不可胜记。果品有五种：一红枣，二栗子，三落花生，四菱角，五香芋。”老耗子听了，大喜，即时点耗前去。可这分派活儿的时候啊，可有意思啦。你且再细细听我道来。 」\n",
      "\n",
      "黛玉:「瞧你说得眉飞色舞的，我倒要看看你这分派活儿能说出什么花样。快些讲，若再这般卖关子，我可没那耐心听你胡诌了。 」\n",
      "\n",
      "宝玉:「妹妹莫急呀。老耗子便问：“谁去偷米？”一耗便接令去偷米。又问：“谁去偷豆？”又一耗子出来应令。然后去偷红枣、栗子、落花生、菱角的，也都各各领令去了。只剩了香芋一种，老耗子便问：“谁去偷香芋？”只见一个极小极弱的小耗应道：“我愿去偷香芋。”老耗子和众耗见他这样，恐不谙练，且怯懦无力，都不准他去。小耗道：‘我虽年小身弱，却是法术无边，口齿伶俐，机谋深远。此去管比他们偷的还巧呢。’你说这小耗子是不是机灵得紧呐？ 」\n",
      "\n",
      "黛玉:「哼，瞧你把这小耗子夸得，我看你就是变着法儿编排我呢。且听你接着说，这小耗子究竟有什么法术能比旁的耗子偷得还巧。若说不出个道道来，我定不饶你。 」\n",
      "\n"
     ]
    }
   ],
   "source": [
    "beginning_line = \"林妹妹，你可知道你们扬州衙门里有一件大事？\"\n",
    "baoyu.chat_history.append({\"role\": \"assistant\", \"content\": beginning_line})\n",
    "print(f\"宝玉:「{beginning_line}」\\n\")\n",
    "\n",
    "daiyu_line = daiyu.chat(\n",
    "    user_role=\"宝玉\",\n",
    "    query=beginning_line,\n",
    ")\n",
    "print()\n",
    "\n",
    "for i in range(4):\n",
    "    baoyu_line = baoyu.chat(user_role=\"黛玉\", query=daiyu_line)  # 宝玉\n",
    "    print()\n",
    "    daiyu_line = daiyu.chat(user_role=\"宝玉\", query=baoyu_line)  # 黛玉\n",
    "    print()"
   ]
  },
  {
   "cell_type": "code",
   "execution_count": 21,
   "metadata": {},
   "outputs": [
    {
     "name": "stdout",
     "output_type": "stream",
     "text": [
      "黛玉:「哟，你这突然说天色渐晚，是想岔开话题么？我可盯着你呢，快接着说那小耗子偷香芋的事儿，莫要拿这天色来糊弄我。 」\n"
     ]
    },
    {
     "data": {
      "text/plain": [
       "'哟，你这突然说天色渐晚，是想岔开话题么？我可盯着你呢，快接着说那小耗子偷香芋的事儿，莫要拿这天色来糊弄我。 '"
      ]
     },
     "execution_count": 21,
     "metadata": {},
     "output_type": "execute_result"
    }
   ],
   "source": [
    "daiyu.chat(\n",
    "    user_role=\"宝玉\",\n",
    "    query=\"天色渐晚了。\",\n",
    ")"
   ]
  }
 ],
 "metadata": {
  "kernelspec": {
   "display_name": "ChatRolePlay",
   "language": "python",
   "name": "python3"
  },
  "language_info": {
   "codemirror_mode": {
    "name": "ipython",
    "version": 3
   },
   "file_extension": ".py",
   "mimetype": "text/x-python",
   "name": "python",
   "nbconvert_exporter": "python",
   "pygments_lexer": "ipython3",
   "version": "3.10.15"
  }
 },
 "nbformat": 4,
 "nbformat_minor": 2
}
