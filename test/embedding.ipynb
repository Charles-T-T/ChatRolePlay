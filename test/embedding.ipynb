{
 "cells": [
  {
   "cell_type": "markdown",
   "metadata": {},
   "source": [
    "# 针对不同格式文件进行embedding+构建本地知识库测试"
   ]
  },
  {
   "cell_type": "code",
   "execution_count": 1,
   "metadata": {},
   "outputs": [],
   "source": [
    "import os\n",
    "\n",
    "os.chdir(\"..\")\n",
    "os.getcwd()\n",
    "# resolve conflicting installations in numpy and from canopy\n",
    "os.environ[\"KMP_DUPLICATE_LIB_OK\"]=\"TRUE\""
   ]
  },
  {
   "cell_type": "code",
   "execution_count": 2,
   "metadata": {},
   "outputs": [],
   "source": [
    "from langchain.chains import RetrievalQA\n",
    "from langchain.chat_models import ChatOpenAI\n",
    "from langchain.document_loaders import TextLoader\n",
    "from langchain.vectorstores import DocArrayInMemorySearch"
   ]
  },
  {
   "cell_type": "code",
   "execution_count": 3,
   "metadata": {},
   "outputs": [],
   "source": [
    "from langchain.indexes import VectorstoreIndexCreator"
   ]
  },
  {
   "cell_type": "code",
   "execution_count": 4,
   "metadata": {},
   "outputs": [],
   "source": [
    "from langchain_openai import OpenAIEmbeddings"
   ]
  },
  {
   "cell_type": "code",
   "execution_count": 5,
   "metadata": {},
   "outputs": [],
   "source": [
    "from langchain import embeddings"
   ]
  },
  {
   "cell_type": "markdown",
   "metadata": {},
   "source": [
    "## txt构建知识库测试"
   ]
  },
  {
   "cell_type": "code",
   "execution_count": 6,
   "metadata": {},
   "outputs": [
    {
     "name": "stdout",
     "output_type": "stream",
     "text": [
      "总共加载了 48 个文档\n"
     ]
    }
   ],
   "source": [
    "from langchain.document_loaders import DirectoryLoader\n",
    "\n",
    "# 加载文件夹中的所有 .txt 文件\n",
    "loader = DirectoryLoader(\n",
    "    path=\"./data/haruhi-data\",\n",
    "    glob=\"**/*.txt\",  # 使用通配符加载所有子目录中的 .txt 文件\n",
    "    loader_cls=TextLoader,  # 指定加载器\n",
    ")\n",
    "\n",
    "# 加载所有文档\n",
    "docs = loader.load()\n",
    "\n",
    "print(f\"总共加载了 {len(docs)} 个文档\")"
   ]
  },
  {
   "cell_type": "code",
   "execution_count": 7,
   "metadata": {},
   "outputs": [],
   "source": [
    "openai_embeddings = OpenAIEmbeddings()"
   ]
  },
  {
   "cell_type": "code",
   "execution_count": 8,
   "metadata": {},
   "outputs": [
    {
     "name": "stderr",
     "output_type": "stream",
     "text": [
      "C:\\Users\\boyu\\AppData\\Roaming\\Python\\Python312\\site-packages\\pydantic\\_migration.py:283: UserWarning: `pydantic.error_wrappers:ValidationError` has been moved to `pydantic:ValidationError`.\n",
      "  warnings.warn(f'`{import_path}` has been moved to `{new_location}`.')\n"
     ]
    }
   ],
   "source": [
    "db = DocArrayInMemorySearch.from_documents(\n",
    "    docs,\n",
    "    openai_embeddings\n",
    ")"
   ]
  },
  {
   "cell_type": "code",
   "execution_count": 9,
   "metadata": {},
   "outputs": [
    {
     "data": {
      "text/plain": [
       "[Document(metadata={'source': 'data\\\\haruhi-data\\\\春日与有希.txt'}, page_content='旁白:春日非常重视长门有希，把长门看作「非常重要的团员」，而当长门病倒时，比谁都更关心长门的就是春日，阿虚甚至开始认为「春日想要的根本不是外星人，而是长门有希本尊」。'),\n",
       " Document(metadata={'source': 'data\\\\haruhi-data\\\\不重要的事情.txt'}, page_content='阿虚:「我无意中听到一件事。」\\n春日:「反正不会是什么重要的事。」\\n'),\n",
       " Document(metadata={'source': 'data\\\\haruhi-data\\\\电脑是怎么来的.txt'}, page_content='阿虚:「凉宫，你现在又想干嘛，先告诉你。我可不干那种强盗还有威胁的事喔!」\\n凉宫:「你在胡说什么啊?我才不会做那种事咧!」\\n阿虚:「是吗?那桌上的电脑是怎么来的？」\\n凉宫:「当然是利用和平手段得来的啊!好啦，先看这个要紧。」\\n'),\n",
       " Document(metadata={'source': 'data\\\\haruhi-data\\\\春日与阿虚.txt'}, page_content='旁白:春日虽然经常叫骂使唤阿虚，但是其实很在意阿虚，在班中座位永远是在阿虚的后面。在上课或是什么时候，一有鬼主意就会用铅笔尖在阿虚的背后一戳，然后“喂，阿虚，我想啊......”然后就很兴奋的开始说一些完全不管人家感受的鬼主意。\\n')]"
      ]
     },
     "execution_count": 9,
     "metadata": {},
     "output_type": "execute_result"
    }
   ],
   "source": [
    "res = db.similarity_search(\"阿虚：话说，最近没看到长门有希呢\")\n",
    "\n",
    "res"
   ]
  },
  {
   "cell_type": "code",
   "execution_count": 10,
   "metadata": {},
   "outputs": [
    {
     "data": {
      "text/plain": [
       "[Document(metadata={'source': 'data\\\\haruhi-data\\\\凉宫春日为何转变.txt'}, page_content='旁白:本来凉宫春日是个平凡的女孩，她在小学六年级和她父亲去看一场棒球赛后，便觉得人生无趣，因此便开始尝试改变自己，于是她便做出了许多怪异的举动，\\n旁白:如在东国中操场内画如纳斯卡巨画一般的画作，意为\"我在这里等\"，使得她成为大家口中的怪人。\\n'),\n",
       " Document(metadata={'source': 'data\\\\haruhi-data\\\\兔女郎被老师驱散.txt'}, page_content='旁白: 凉宫和朝比奈兔女郎的装束成功吸引了许多学生的注意力，但是传单还没发到一半时就被老师制止了。从训导室出来后，春日愤怒的回到了社团教室\\n春日:「气死我了!搞什么鬼啊，臭老师!就只会妨碍我做事，可恶!」\\n阿虚:「是不是出了什么问题?」\\n春日:「混蛋!我们的传单都还没发到一半，就来个混蛋老师叫我们不要再发了!搞什么鬼啊，他是什么东西啊!」\\n春日:「那时实玖瑠立刻就哭出来了，我也被带去训导处，然后手球社的笨蛋冈部就来了。」\\n阿虚:「相信训导主任跟冈部看到你时，视线一定不知道要摆哪里!」\\n春日:「总之就是气死我了!今天就到此为止，闪人了!」\\n旁白:春日动手脱起兔女郎的衣服，阿虚也后知后觉的冲出教室，看到朝比奈还蹲在地上 \\n春日:「你是要哭到什么时候啦!好了，快点站起来换衣服了!」\\n'),\n",
       " Document(metadata={'source': 'data\\\\haruhi-data\\\\兔女郎.txt'}, page_content='春日:「锵锵!」\\n旁白:春日拿出了一套黑色的紧身衣、网袜、假耳朵、蝴蝶结、白色领套和袖套以及尾巴。\\n朝比奈:「那，那个到底要做什么……」\\n春日:「你也知道吧!扮兔女郎啊!」\\n朝比奈:「你，你，你该不会要我穿那个吧?」\\n春日:「当然啰!我也有准备你的啊!」\\n朝比奈:「我，我不要穿那种衣服!」\\n春日:「放心啦，尺寸应该刚好。」\\n朝比奈:「不是那个问题!你，你该不会要我穿成那样在校门口发传单吧?」\\n春日:「这还用说。」\\n朝比奈:「我，我不要!」\\n春日:「少啰唆!」\\n朝比奈:「不要啊!」\\n春日:「给我乖乖的不准动!」\\n'),\n",
       " Document(metadata={'source': 'data\\\\haruhi-data\\\\古泉是男的还是女的.txt'}, page_content='阿虚:「是不是个谜样的转学生啊……?」\\n春日:「嗯…… 感觉不太像。」\\n阿虚:「 那是当然的啦!」\\n春日:「虽然我有跟他说了点话，但资讯还是不足。说不定他戴了面具伪装成普通人，我觉得可能性很高。毕竟没有人会在转学当天就暴露真实身份，等下一节下课，我再去问问看。」\\n阿虚:「转学生是男的还是女的?」\\n春日:「虽然有变装的可能性，不过看起来像是男的。」\\n')]"
      ]
     },
     "execution_count": 10,
     "metadata": {},
     "output_type": "execute_result"
    }
   ],
   "source": [
    "res = db.similarity_search(\"上次扮成兔女郎的是谁？\")\n",
    "res"
   ]
  },
  {
   "cell_type": "code",
   "execution_count": 11,
   "metadata": {},
   "outputs": [
    {
     "data": {
      "text/plain": [
       "langchain_core.documents.base.Document"
      ]
     },
     "execution_count": 11,
     "metadata": {},
     "output_type": "execute_result"
    }
   ],
   "source": [
    "type(res[0])"
   ]
  },
  {
   "cell_type": "code",
   "execution_count": 12,
   "metadata": {},
   "outputs": [
    {
     "data": {
      "text/plain": [
       "('春日:「锵锵!」\\n旁白:春日拿出了一套黑色的紧身衣、网袜、假耳朵、蝴蝶结、白色领套和袖套以及尾巴。\\n朝比奈:「那，那个到底要做什么……」\\n春日:「你也知道吧!扮兔女郎啊!」\\n朝比奈:「你，你，你该不会要我穿那个吧?」\\n春日:「当然啰!我也有准备你的啊!」\\n朝比奈:「我，我不要穿那种衣服!」\\n春日:「放心啦，尺寸应该刚好。」\\n朝比奈:「不是那个问题!你，你该不会要我穿成那样在校门口发传单吧?」\\n春日:「这还用说。」\\n朝比奈:「我，我不要!」\\n春日:「少啰唆!」\\n朝比奈:「不要啊!」\\n春日:「给我乖乖的不准动!」\\n',\n",
       " str)"
      ]
     },
     "execution_count": 12,
     "metadata": {},
     "output_type": "execute_result"
    }
   ],
   "source": [
    "content = res[2].page_content\n",
    "content, type(content)"
   ]
  },
  {
   "cell_type": "code",
   "execution_count": 13,
   "metadata": {},
   "outputs": [
    {
     "name": "stdout",
     "output_type": "stream",
     "text": [
      "旁白:本来凉宫春日是个平凡的女孩，她在小学六年级和她父亲去看一场棒球赛后，便觉得人生无趣，因此便开始尝试改变自己，于是她便做出了许多怪异的举动，\n",
      "旁白:如在东国中操场内画如纳斯卡巨画一般的画作，意为\"我在这里等\"，使得她成为大家口中的怪人。\n",
      "\n",
      "旁白: 凉宫和朝比奈兔女郎的装束成功吸引了许多学生的注意力，但是传单还没发到一半时就被老师制止了。从训导室出来后，春日愤怒的回到了社团教室\n",
      "春日:「气死我了!搞什么鬼啊，臭老师!就只会妨碍我做事，可恶!」\n",
      "阿虚:「是不是出了什么问题?」\n",
      "春日:「混蛋!我们的传单都还没发到一半，就来个混蛋老师叫我们不要再发了!搞什么鬼啊，他是什么东西啊!」\n",
      "春日:「那时实玖瑠立刻就哭出来了，我也被带去训导处，然后手球社的笨蛋冈部就来了。」\n",
      "阿虚:「相信训导主任跟冈部看到你时，视线一定不知道要摆哪里!」\n",
      "春日:「总之就是气死我了!今天就到此为止，闪人了!」\n",
      "旁白:春日动手脱起兔女郎的衣服，阿虚也后知后觉的冲出教室，看到朝比奈还蹲在地上 \n",
      "春日:「你是要哭到什么时候啦!好了，快点站起来换衣服了!」\n",
      "\n",
      "春日:「锵锵!」\n",
      "旁白:春日拿出了一套黑色的紧身衣、网袜、假耳朵、蝴蝶结、白色领套和袖套以及尾巴。\n",
      "朝比奈:「那，那个到底要做什么……」\n",
      "春日:「你也知道吧!扮兔女郎啊!」\n",
      "朝比奈:「你，你，你该不会要我穿那个吧?」\n",
      "春日:「当然啰!我也有准备你的啊!」\n",
      "朝比奈:「我，我不要穿那种衣服!」\n",
      "春日:「放心啦，尺寸应该刚好。」\n",
      "朝比奈:「不是那个问题!你，你该不会要我穿成那样在校门口发传单吧?」\n",
      "春日:「这还用说。」\n",
      "朝比奈:「我，我不要!」\n",
      "春日:「少啰唆!」\n",
      "朝比奈:「不要啊!」\n",
      "春日:「给我乖乖的不准动!」\n",
      "\n",
      "阿虚:「是不是个谜样的转学生啊……?」\n",
      "春日:「嗯…… 感觉不太像。」\n",
      "阿虚:「 那是当然的啦!」\n",
      "春日:「虽然我有跟他说了点话，但资讯还是不足。说不定他戴了面具伪装成普通人，我觉得可能性很高。毕竟没有人会在转学当天就暴露真实身份，等下一节下课，我再去问问看。」\n",
      "阿虚:「转学生是男的还是女的?」\n",
      "春日:「虽然有变装的可能性，不过看起来像是男的。」\n",
      "\n",
      "\n"
     ]
    }
   ],
   "source": [
    "context = \"\"\n",
    "for doc in res:\n",
    "    context += doc.page_content\n",
    "    context += \"\\n\"\n",
    "\n",
    "print(context)"
   ]
  },
  {
   "cell_type": "code",
   "execution_count": 14,
   "metadata": {},
   "outputs": [],
   "source": [
    "import tiktoken\n",
    "\n",
    "enc = tiktoken.get_encoding(\"cl100k_base\")\n",
    "\n",
    "\n",
    "def count_token(text: str) -> int:\n",
    "    \"\"\"计算text对应的token数\"\"\"\n",
    "    tokens = enc.encode(text)\n",
    "    return len(tokens)"
   ]
  },
  {
   "cell_type": "code",
   "execution_count": 15,
   "metadata": {},
   "outputs": [
    {
     "data": {
      "text/plain": [
       "1130"
      ]
     },
     "execution_count": 15,
     "metadata": {},
     "output_type": "execute_result"
    }
   ],
   "source": [
    "count_token(context)"
   ]
  },
  {
   "cell_type": "markdown",
   "metadata": {},
   "source": [
    "## json构建知识库测试"
   ]
  },
  {
   "cell_type": "code",
   "execution_count": 16,
   "metadata": {},
   "outputs": [],
   "source": [
    "# from langchain.document_loaders import JSONLoader\n",
    "\n",
    "# loader = JSONLoader(\n",
    "#     file_path=\"./data/banaijian/banaijian.jsonl\",\n",
    "#     jq_schema=\"{content: .text, metadata: {luotuo_openai: .luotuo_openai}}\", \n",
    "# )\n",
    "# docs = loader.load()\n",
    "\n",
    "# docs[:5]"
   ]
  },
  {
   "cell_type": "markdown",
   "metadata": {},
   "source": [
    "当前数据为.jsonl，上面的方法可能仅适用于.json"
   ]
  },
  {
   "cell_type": "code",
   "execution_count": 17,
   "metadata": {},
   "outputs": [],
   "source": [
    "from langchain.schema import Document\n",
    "import json\n",
    "\n",
    "file_path = \"./data/banaijian/banaijian.jsonl\"\n",
    "\n",
    "docs = []\n",
    "with open(file_path, \"r\", encoding=\"utf-8\") as f:\n",
    "    for line in f:\n",
    "        if line.strip():\n",
    "            data = json.loads(line.strip())\n",
    "            docs.append(\n",
    "                Document(\n",
    "                    page_content=data[\"text\"],\n",
    "                    metadata={\"luotuo_openai\": data[\"luotuo_openai\"]},\n",
    "                )\n",
    "            )\n"
   ]
  },
  {
   "cell_type": "code",
   "execution_count": 18,
   "metadata": {},
   "outputs": [
    {
     "data": {
      "text/plain": [
       "langchain_core.documents.base.Document"
      ]
     },
     "execution_count": 18,
     "metadata": {},
     "output_type": "execute_result"
    }
   ],
   "source": [
    "type(docs[0])"
   ]
  },
  {
   "cell_type": "code",
   "execution_count": 19,
   "metadata": {},
   "outputs": [],
   "source": [
    "db = DocArrayInMemorySearch.from_documents(\n",
    "    docs, \n",
    "    openai_embeddings\n",
    ")"
   ]
  },
  {
   "cell_type": "code",
   "execution_count": 20,
   "metadata": {},
   "outputs": [
    {
     "name": "stdout",
     "output_type": "stream",
     "text": [
      "[Document(metadata={'luotuo_openai': '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'}, page_content='scene:八奈见和烧盐吃了巧克力球，引起轻微混乱\\nscene:温水收到巧克力盒，被三名女生询问来源\\n我:「我出门时收到了巧克力，虽然不是手工的，不嫌弃的话请用。」\\n烧盐:「哦～阿温还真有一手。是哪个女生？」\\n我:「哪个女生──是我家母亲给我的啊。」\\n八奈见:「我、我就知道，是这样。」\\nscene:温水提到是母亲送的巧克力，引起好奇\\n我:「我出门的时候，家母要我带来跟大家一起吃──虽然是这样，也不代表八奈见同学可以全部吃掉喔？你有在听吗？」\\n我:「可是，我也不能不去。八奈见同──」\\nscene:温水提醒八奈见不要全部吃掉巧克力\\nscene:温水计划行程，包括参观者介绍员的任务\\nscene:八奈见和烧盐提议离开，温水被指名介绍参观者\\n八奈见:「柠檬、温水，时间差不多到了，我们走吧。」\\n'), Document(metadata={'luotuo_openai': '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'}, page_content='-:「来，也给温水一颗。尽管吃，别客气。」\\nscene:主人物品尝巧克力后表现淡定，八奈见提到手的问题\\n八奈见:「因为你用手抓啊。其实在社办我也觉得有点介意，空手抓东西给别人吃，就卫生来看不太好吧？」\\n八奈见:「这先放一旁，社办那边就交给你了。佳树人不见了，我得去找她才行。」\\nscene:对话中提到了介意用手抓食物给别人吃的卫生问题\\n八奈见:「你在找你妹喔？喔～果然发生事情了啊。」\\n八奈见:「你说果然──你知道什么吗？」\\n八奈见:「我是不晓得，但是和你妹同一组的橘学弟，就是那个疑似跟她约会的男生吧？光看温水的态度，当然会觉得应该出事了。」\\n八奈见:「我好心帮你找了你妹的位置。不该是这种态度吧？」\\n八奈见:「我也是被你卷进这件事的相关人士喔，当然会好奇吧？」\\nscene:主人公温水在学校里遇到同学八奈见，讨论关于温水妹妹失踪的事情\\n八奈见:「好痛！？干嘛啊，我难得有这种好心情耶。」\\n八奈见:「刚才的巧克力，你还没跟我说感想。」\\n'), Document(metadata={'luotuo_openai': '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'}, page_content='温水:「就是这样啦，温水。国中生有男朋友也很正常啊。」\\nscene:八奈见对温水提出了一些问题和观点\\n八奈见:「话虽如此，也还没确定是这样喔？」\\n温水:「你为什么吃得这么秀气啊？」\\n八奈见:「不晓得一整个吃不吃得完。况且在这个时间吃太多，肚子就装不下晚餐了吧？」\\n温水:「别担心，装得下。」\\n八奈见:「你要多相信自己一点。我可是无意识间买了两个，却忍耐着只吃一个喔。」\\n'), Document(metadata={'luotuo_openai': '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'}, page_content='温水:「呜哇，好漂亮的便当。这个是温水做的？」\\nscene:主人公在午休时收到充满爱意的便当，被同学称赞便当漂亮\\n八奈见:「我妹要我带的。我也没这么会做料理。」\\n我:「你妹妹手艺很好耶。吃起来是什么味道呢……？」\\n八奈见:「你看，我用素面做了琉球杂炒。还满好吃的喔。」\\n我:「话说回来，八奈见同学，今天有什么事吗？」\\n八奈见:「没什么事也没关系吧？只是吃个饭聊聊天而已啊。」\\n八奈见:「温水，真的不是。这次不是我的私怨。只是身为友人，不，我必须代表人类提出异议。」\\n我:「你有什么异议？」\\nscene:八奈见和主人物聊天，展示自己做的便当盒里的食物\\n我:「我记得昨天好像说要量服装尺寸吧？」\\nscene:讨论学校活动\"游击万圣节\"，需要量尺寸来准备服装\\n八奈见:「现成的服装都无法配合华恋的胸围尺寸，所以必须特别修改，这件事先放一旁。」\\n')]\n"
     ]
    }
   ],
   "source": [
    "res = db.similarity_search(\"温水送出本命巧克力\")\n",
    "print(res)"
   ]
  },
  {
   "cell_type": "code",
   "execution_count": 21,
   "metadata": {},
   "outputs": [
    {
     "name": "stdout",
     "output_type": "stream",
     "text": [
      "scene:八奈见和烧盐吃了巧克力球，引起轻微混乱\n",
      "scene:温水收到巧克力盒，被三名女生询问来源\n",
      "我:「我出门时收到了巧克力，虽然不是手工的，不嫌弃的话请用。」\n",
      "烧盐:「哦～阿温还真有一手。是哪个女生？」\n",
      "我:「哪个女生──是我家母亲给我的啊。」\n",
      "八奈见:「我、我就知道，是这样。」\n",
      "scene:温水提到是母亲送的巧克力，引起好奇\n",
      "我:「我出门的时候，家母要我带来跟大家一起吃──虽然是这样，也不代表八奈见同学可以全部吃掉喔？你有在听吗？」\n",
      "我:「可是，我也不能不去。八奈见同──」\n",
      "scene:温水提醒八奈见不要全部吃掉巧克力\n",
      "scene:温水计划行程，包括参观者介绍员的任务\n",
      "scene:八奈见和烧盐提议离开，温水被指名介绍参观者\n",
      "八奈见:「柠檬、温水，时间差不多到了，我们走吧。」\n",
      "\n",
      "-:「来，也给温水一颗。尽管吃，别客气。」\n",
      "scene:主人物品尝巧克力后表现淡定，八奈见提到手的问题\n",
      "八奈见:「因为你用手抓啊。其实在社办我也觉得有点介意，空手抓东西给别人吃，就卫生来看不太好吧？」\n",
      "八奈见:「这先放一旁，社办那边就交给你了。佳树人不见了，我得去找她才行。」\n",
      "scene:对话中提到了介意用手抓食物给别人吃的卫生问题\n",
      "八奈见:「你在找你妹喔？喔～果然发生事情了啊。」\n",
      "八奈见:「你说果然──你知道什么吗？」\n",
      "八奈见:「我是不晓得，但是和你妹同一组的橘学弟，就是那个疑似跟她约会的男生吧？光看温水的态度，当然会觉得应该出事了。」\n",
      "八奈见:「我好心帮你找了你妹的位置。不该是这种态度吧？」\n",
      "八奈见:「我也是被你卷进这件事的相关人士喔，当然会好奇吧？」\n",
      "scene:主人公温水在学校里遇到同学八奈见，讨论关于温水妹妹失踪的事情\n",
      "八奈见:「好痛！？干嘛啊，我难得有这种好心情耶。」\n",
      "八奈见:「刚才的巧克力，你还没跟我说感想。」\n",
      "\n",
      "温水:「就是这样啦，温水。国中生有男朋友也很正常啊。」\n",
      "scene:八奈见对温水提出了一些问题和观点\n",
      "八奈见:「话虽如此，也还没确定是这样喔？」\n",
      "温水:「你为什么吃得这么秀气啊？」\n",
      "八奈见:「不晓得一整个吃不吃得完。况且在这个时间吃太多，肚子就装不下晚餐了吧？」\n",
      "温水:「别担心，装得下。」\n",
      "八奈见:「你要多相信自己一点。我可是无意识间买了两个，却忍耐着只吃一个喔。」\n",
      "\n",
      "温水:「呜哇，好漂亮的便当。这个是温水做的？」\n",
      "scene:主人公在午休时收到充满爱意的便当，被同学称赞便当漂亮\n",
      "八奈见:「我妹要我带的。我也没这么会做料理。」\n",
      "我:「你妹妹手艺很好耶。吃起来是什么味道呢……？」\n",
      "八奈见:「你看，我用素面做了琉球杂炒。还满好吃的喔。」\n",
      "我:「话说回来，八奈见同学，今天有什么事吗？」\n",
      "八奈见:「没什么事也没关系吧？只是吃个饭聊聊天而已啊。」\n",
      "八奈见:「温水，真的不是。这次不是我的私怨。只是身为友人，不，我必须代表人类提出异议。」\n",
      "我:「你有什么异议？」\n",
      "scene:八奈见和主人物聊天，展示自己做的便当盒里的食物\n",
      "我:「我记得昨天好像说要量服装尺寸吧？」\n",
      "scene:讨论学校活动\"游击万圣节\"，需要量尺寸来准备服装\n",
      "八奈见:「现成的服装都无法配合华恋的胸围尺寸，所以必须特别修改，这件事先放一旁。」\n",
      "\n"
     ]
    }
   ],
   "source": [
    "for r in res:\n",
    "    print(r.page_content)"
   ]
  }
 ],
 "metadata": {
  "kernelspec": {
   "display_name": "base",
   "language": "python",
   "name": "python3"
  },
  "language_info": {
   "codemirror_mode": {
    "name": "ipython",
    "version": 3
   },
   "file_extension": ".py",
   "mimetype": "text/x-python",
   "name": "python",
   "nbconvert_exporter": "python",
   "pygments_lexer": "ipython3",
   "version": "3.12.7"
  }
 },
 "nbformat": 4,
 "nbformat_minor": 2
}
